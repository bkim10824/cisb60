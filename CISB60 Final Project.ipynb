{
 "cells": [
  {
   "cell_type": "markdown",
   "id": "242db1dd-993c-4b79-a1ce-82b0f47cc6a0",
   "metadata": {},
   "source": [
    "Bryan Kim \\\n",
    "CISB 60 \\\n",
    "Final Project \\\n",
    "Comparing Deep Learning results versus Support Vector Machines (SVM) in Fraud Detection using a Wine Dataset"
   ]
  },
  {
   "cell_type": "markdown",
   "id": "4c1477db-9709-4a78-94db-9c61bbd43371",
   "metadata": {},
   "source": [
    "Wines are expensive. Some exploit this as a business opportunity to adulterate wines and sell them. Our dataset contains wine samples with chemical analyses done on them. This project explores machine learning and deep learning techniques to compare how well they are able to identify and distinguish between legit and fraudulent wines based on chemical composition. \\\n",
    "As we will see later, both SVM and deep learning/neural network models show poor performance as far as the task of fraud detection is concerned, but for different reasons. Our SVM model struggles with fraud detection due to low precision indicating a high number of false positives. And our deep learning model is overly cautious and misses the vast majority of actual fraudulent cases. \\\n",
    "If this dataset represented a restaurant's inventory of wines, and we wanted to be careful about falsely accusing their stock as being fraudulent wines, our cautious deep learning model could potentially be useful. However, if we were tasked with helping them identify the fake wines in their inventory, both models would fall short of the task at hand. "
   ]
  },
  {
   "cell_type": "markdown",
   "id": "1127b818-b553-4d0a-b6ec-10549cf79adb",
   "metadata": {},
   "source": [
    "**Dataset: wine_fraud.csv** \\\n",
    "The dataset includes the following columns: \\\n",
    "fixed acidity \\\n",
    "volatile acidity \\\n",
    "citric acid \\\n",
    "residual sugar \\\n",
    "chlorides \\\n",
    "free sulfur dioxide \\\n",
    "total suflur dioxide \\\n",
    "density \\\n",
    "pH \\\n",
    "sulphates \\\n",
    "alcohol \\\n",
    "type: The type of wine (red or white) \\\n",
    "quality: The classification of the wine (legit or fraud)"
   ]
  },
  {
   "cell_type": "code",
   "execution_count": 1,
   "id": "69f456d1-f90c-4657-9442-183a8093105d",
   "metadata": {},
   "outputs": [],
   "source": [
    "import pandas as pd\n",
    "import numpy as np\n",
    "import seaborn as sns\n",
    "from sklearn.model_selection import train_test_split\n",
    "from sklearn.preprocessing import StandardScaler, LabelEncoder\n",
    "from sklearn.svm import SVC\n",
    "from sklearn.metrics import classification_report, confusion_matrix"
   ]
  },
  {
   "cell_type": "code",
   "execution_count": 3,
   "id": "f4ae3a76-e7fc-466a-836a-666441ffe524",
   "metadata": {},
   "outputs": [],
   "source": [
    "df = pd.read_csv(\"data/wine_fraud.csv\")"
   ]
  },
  {
   "cell_type": "code",
   "execution_count": 5,
   "id": "d3c1f7d1-d2be-43b0-a4db-f5b1f415afbf",
   "metadata": {},
   "outputs": [
    {
     "name": "stdout",
     "output_type": "stream",
     "text": [
      "   fixed acidity  volatile acidity  citric acid  residual sugar  chlorides  \\\n",
      "0            7.4              0.70         0.00             1.9      0.076   \n",
      "1            7.8              0.88         0.00             2.6      0.098   \n",
      "2            7.8              0.76         0.04             2.3      0.092   \n",
      "3           11.2              0.28         0.56             1.9      0.075   \n",
      "4            7.4              0.70         0.00             1.9      0.076   \n",
      "\n",
      "   free sulfur dioxide  total sulfur dioxide  density    pH  sulphates  \\\n",
      "0                 11.0                  34.0   0.9978  3.51       0.56   \n",
      "1                 25.0                  67.0   0.9968  3.20       0.68   \n",
      "2                 15.0                  54.0   0.9970  3.26       0.65   \n",
      "3                 17.0                  60.0   0.9980  3.16       0.58   \n",
      "4                 11.0                  34.0   0.9978  3.51       0.56   \n",
      "\n",
      "   alcohol quality type  \n",
      "0      9.4   Legit  red  \n",
      "1      9.8   Legit  red  \n",
      "2      9.8   Legit  red  \n",
      "3      9.8   Legit  red  \n",
      "4      9.4   Legit  red  \n"
     ]
    }
   ],
   "source": [
    "print(df.head())"
   ]
  },
  {
   "cell_type": "code",
   "execution_count": 7,
   "id": "ff54067a-1272-4166-b0d2-885e869732af",
   "metadata": {},
   "outputs": [
    {
     "data": {
      "text/plain": [
       "array(['Legit', 'Fraud'], dtype=object)"
      ]
     },
     "execution_count": 7,
     "metadata": {},
     "output_type": "execute_result"
    }
   ],
   "source": [
    "# The target labels we will use\n",
    "df['quality'].unique()"
   ]
  },
  {
   "cell_type": "code",
   "execution_count": 9,
   "id": "79419e49-78a0-408d-9bd5-c5bb6304ec74",
   "metadata": {},
   "outputs": [
    {
     "data": {
      "text/plain": [
       "array(['red', 'white'], dtype=object)"
      ]
     },
     "execution_count": 9,
     "metadata": {},
     "output_type": "execute_result"
    }
   ],
   "source": [
    "df['type'].unique()"
   ]
  },
  {
   "cell_type": "code",
   "execution_count": 11,
   "id": "441cf576-2dd7-4f13-8d67-f2a900f6eeac",
   "metadata": {},
   "outputs": [
    {
     "data": {
      "text/plain": [
       "<Axes: xlabel='quality', ylabel='count'>"
      ]
     },
     "execution_count": 11,
     "metadata": {},
     "output_type": "execute_result"
    },
    {
     "data": {
      "image/png": "[encoded data removed]",
      "text/plain": [
       "<Figure size 640x480 with 1 Axes>"
      ]
     },
     "metadata": {},
     "output_type": "display_data"
    }
   ],
   "source": [
    "sns.countplot(df, x=\"quality\")"
   ]
  },
  {
   "cell_type": "code",
   "execution_count": null,
   "id": "0d0e5a69-3fcd-45fc-8b6b-51e2d44d975e",
   "metadata": {},
   "outputs": [],
   "source": [
    "#Most of the wines in our dataset are Legit"
   ]
  },
  {
   "cell_type": "code",
   "execution_count": 25,
   "id": "e5a4a89b-4822-48e3-bad4-e14aaef99303",
   "metadata": {},
   "outputs": [
    {
     "data": {
      "text/plain": [
       "<Axes: xlabel='quality', ylabel='percent'>"
      ]
     },
     "execution_count": 25,
     "metadata": {},
     "output_type": "execute_result"
    },
    {
     "data": {
      "image/png": "[encoded data removed]",
      "text/plain": [
       "<Figure size 640x480 with 1 Axes>"
      ]
     },
     "metadata": {},
     "output_type": "display_data"
    }
   ],
   "source": [
    "#Let's see what proportion of our legit and fraud wines are red or white\n",
    "sns.countplot(df, x=\"quality\", hue=\"type\", stat=\"percent\")"
   ]
  },
  {
   "cell_type": "code",
   "execution_count": null,
   "id": "363370f9-0022-4dba-831d-7362e9d08cf6",
   "metadata": {},
   "outputs": [],
   "source": [
    "#the majority of our legit wines are white, and similar for our fraudulent wines"
   ]
  },
  {
   "cell_type": "code",
   "execution_count": 27,
   "id": "ab340a5f-76ef-4dd1-bfc2-33e3034750a7",
   "metadata": {},
   "outputs": [
    {
     "data": {
      "text/plain": [
       "<Axes: xlabel='type', ylabel='percent'>"
      ]
     },
     "execution_count": 27,
     "metadata": {},
     "output_type": "execute_result"
    },
    {
     "data": {
      "image/png": "[encoded data removed]",
      "text/plain": [
       "<Figure size 640x480 with 1 Axes>"
      ]
     },
     "metadata": {},
     "output_type": "display_data"
    }
   ],
   "source": [
    "#Another way to visualize the distribution of our data\n",
    "#Calculate the percentage of wines labeled as fraud for red and white wines\n",
    "sns.countplot(df, x=\"type\", hue=\"quality\", stat=\"percent\")"
   ]
  },
  {
   "cell_type": "code",
   "execution_count": 116,
   "id": "b535976c-792d-4742-98e6-18b818709e13",
   "metadata": {},
   "outputs": [
    {
     "name": "stdout",
     "output_type": "stream",
     "text": [
      "Percentage of fraud in Red Wines: 3.94\n"
     ]
    }
   ],
   "source": [
    "total_red_wines = len(df[df['type']=='red'])\n",
    "fraud_red_wines = len(df[(df['type']=='red')&(df['quality']=='Fraud')])\n",
    "percent_fraud_red_wines = fraud_red_wines/total_red_wines*100\n",
    "print(f'Percentage of fraud in Red Wines: {percent_fraud_red_wines:.2f}')"
   ]
  },
  {
   "cell_type": "code",
   "execution_count": 118,
   "id": "cb2e1ecf-2a35-4a9c-a24b-71ba3845d2df",
   "metadata": {},
   "outputs": [
    {
     "name": "stdout",
     "output_type": "stream",
     "text": [
      "Percentage of fraud in White Wines: 3.74\n"
     ]
    }
   ],
   "source": [
    "total_white_wines = len(df[df['type']=='white'])\n",
    "fraud_white_wines = len(df[(df['type']=='white')&(df['quality']=='Fraud')])\n",
    "percent_fraud_white_wines = fraud_white_wines/total_white_wines*100\n",
    "print(f'Percentage of fraud in White Wines: {percent_fraud_white_wines:.2f}')"
   ]
  },
  {
   "cell_type": "markdown",
   "id": "1f869801-7b23-476c-9018-bf0cc89437e6",
   "metadata": {},
   "source": [
    "**Convert the 'Quality' column into a numeric variable for analysis.**"
   ]
  },
  {
   "cell_type": "markdown",
   "id": "72bbc997-5cd1-4b24-a5bf-dac1d2295582",
   "metadata": {},
   "source": [
    "**Fraud=0**"
   ]
  },
  {
   "cell_type": "markdown",
   "id": "bc26f060-4aaa-4eb1-83ff-253d9305ffa7",
   "metadata": {},
   "source": [
    "**Legit=1**"
   ]
  },
  {
   "cell_type": "code",
   "execution_count": 30,
   "id": "0d1226a4-2f87-4fff-bea5-ffabd69cc87b",
   "metadata": {},
   "outputs": [],
   "source": [
    "label_encoder = LabelEncoder()"
   ]
  },
  {
   "cell_type": "code",
   "execution_count": 32,
   "id": "1a724bfc-33db-4627-9efa-62446c308bfb",
   "metadata": {},
   "outputs": [],
   "source": [
    "categorical_column = ['quality']"
   ]
  },
  {
   "cell_type": "code",
   "execution_count": 34,
   "id": "8509ff86-924f-4a1f-be3a-8f6e8c9bcc07",
   "metadata": {},
   "outputs": [
    {
     "name": "stdout",
     "output_type": "stream",
     "text": [
      "   fixed acidity  volatile acidity  citric acid  residual sugar  chlorides  \\\n",
      "0            7.4              0.70         0.00             1.9      0.076   \n",
      "1            7.8              0.88         0.00             2.6      0.098   \n",
      "2            7.8              0.76         0.04             2.3      0.092   \n",
      "3           11.2              0.28         0.56             1.9      0.075   \n",
      "4            7.4              0.70         0.00             1.9      0.076   \n",
      "\n",
      "   free sulfur dioxide  total sulfur dioxide  density    pH  sulphates  \\\n",
      "0                 11.0                  34.0   0.9978  3.51       0.56   \n",
      "1                 25.0                  67.0   0.9968  3.20       0.68   \n",
      "2                 15.0                  54.0   0.9970  3.26       0.65   \n",
      "3                 17.0                  60.0   0.9980  3.16       0.58   \n",
      "4                 11.0                  34.0   0.9978  3.51       0.56   \n",
      "\n",
      "   alcohol  quality type  \n",
      "0      9.4        1  red  \n",
      "1      9.8        1  red  \n",
      "2      9.8        1  red  \n",
      "3      9.8        1  red  \n",
      "4      9.4        1  red  \n"
     ]
    }
   ],
   "source": [
    "for column in categorical_column:\n",
    "    df[column] = label_encoder.fit_transform(df[column])\n",
    "\n",
    "print(df.head())"
   ]
  },
  {
   "cell_type": "markdown",
   "id": "407df7b2-6e72-4784-ac9e-256060ce05ca",
   "metadata": {},
   "source": [
    "**Converting the 'Type' column into dummy variables for analysis**"
   ]
  },
  {
   "cell_type": "code",
   "execution_count": 37,
   "id": "75d3a95d-095c-4850-a910-a9ffda3b3215",
   "metadata": {},
   "outputs": [
    {
     "data": {
      "text/html": [
       "<div>\n",
       "<style scoped>\n",
       "    .dataframe tbody tr th:only-of-type {\n",
       "        vertical-align: middle;\n",
       "    }\n",
       "\n",
       "    .dataframe tbody tr th {\n",
       "        vertical-align: top;\n",
       "    }\n",
       "\n",
       "    .dataframe thead th {\n",
       "        text-align: right;\n",
       "    }\n",
       "</style>\n",
       "<table border=\"1\" class=\"dataframe\">\n",
       "  <thead>\n",
       "    <tr style=\"text-align: right;\">\n",
       "      <th></th>\n",
       "      <th>fixed acidity</th>\n",
       "      <th>volatile acidity</th>\n",
       "      <th>citric acid</th>\n",
       "      <th>residual sugar</th>\n",
       "      <th>chlorides</th>\n",
       "      <th>free sulfur dioxide</th>\n",
       "      <th>total sulfur dioxide</th>\n",
       "      <th>density</th>\n",
       "      <th>pH</th>\n",
       "      <th>sulphates</th>\n",
       "      <th>alcohol</th>\n",
       "      <th>quality</th>\n",
       "      <th>type_white</th>\n",
       "    </tr>\n",
       "  </thead>\n",
       "  <tbody>\n",
       "    <tr>\n",
       "      <th>0</th>\n",
       "      <td>7.4</td>\n",
       "      <td>0.70</td>\n",
       "      <td>0.00</td>\n",
       "      <td>1.9</td>\n",
       "      <td>0.076</td>\n",
       "      <td>11.0</td>\n",
       "      <td>34.0</td>\n",
       "      <td>0.99780</td>\n",
       "      <td>3.51</td>\n",
       "      <td>0.56</td>\n",
       "      <td>9.4</td>\n",
       "      <td>1</td>\n",
       "      <td>0</td>\n",
       "    </tr>\n",
       "    <tr>\n",
       "      <th>1</th>\n",
       "      <td>7.8</td>\n",
       "      <td>0.88</td>\n",
       "      <td>0.00</td>\n",
       "      <td>2.6</td>\n",
       "      <td>0.098</td>\n",
       "      <td>25.0</td>\n",
       "      <td>67.0</td>\n",
       "      <td>0.99680</td>\n",
       "      <td>3.20</td>\n",
       "      <td>0.68</td>\n",
       "      <td>9.8</td>\n",
       "      <td>1</td>\n",
       "      <td>0</td>\n",
       "    </tr>\n",
       "    <tr>\n",
       "      <th>2</th>\n",
       "      <td>7.8</td>\n",
       "      <td>0.76</td>\n",
       "      <td>0.04</td>\n",
       "      <td>2.3</td>\n",
       "      <td>0.092</td>\n",
       "      <td>15.0</td>\n",
       "      <td>54.0</td>\n",
       "      <td>0.99700</td>\n",
       "      <td>3.26</td>\n",
       "      <td>0.65</td>\n",
       "      <td>9.8</td>\n",
       "      <td>1</td>\n",
       "      <td>0</td>\n",
       "    </tr>\n",
       "    <tr>\n",
       "      <th>3</th>\n",
       "      <td>11.2</td>\n",
       "      <td>0.28</td>\n",
       "      <td>0.56</td>\n",
       "      <td>1.9</td>\n",
       "      <td>0.075</td>\n",
       "      <td>17.0</td>\n",
       "      <td>60.0</td>\n",
       "      <td>0.99800</td>\n",
       "      <td>3.16</td>\n",
       "      <td>0.58</td>\n",
       "      <td>9.8</td>\n",
       "      <td>1</td>\n",
       "      <td>0</td>\n",
       "    </tr>\n",
       "    <tr>\n",
       "      <th>4</th>\n",
       "      <td>7.4</td>\n",
       "      <td>0.70</td>\n",
       "      <td>0.00</td>\n",
       "      <td>1.9</td>\n",
       "      <td>0.076</td>\n",
       "      <td>11.0</td>\n",
       "      <td>34.0</td>\n",
       "      <td>0.99780</td>\n",
       "      <td>3.51</td>\n",
       "      <td>0.56</td>\n",
       "      <td>9.4</td>\n",
       "      <td>1</td>\n",
       "      <td>0</td>\n",
       "    </tr>\n",
       "    <tr>\n",
       "      <th>...</th>\n",
       "      <td>...</td>\n",
       "      <td>...</td>\n",
       "      <td>...</td>\n",
       "      <td>...</td>\n",
       "      <td>...</td>\n",
       "      <td>...</td>\n",
       "      <td>...</td>\n",
       "      <td>...</td>\n",
       "      <td>...</td>\n",
       "      <td>...</td>\n",
       "      <td>...</td>\n",
       "      <td>...</td>\n",
       "      <td>...</td>\n",
       "    </tr>\n",
       "    <tr>\n",
       "      <th>6492</th>\n",
       "      <td>6.2</td>\n",
       "      <td>0.21</td>\n",
       "      <td>0.29</td>\n",
       "      <td>1.6</td>\n",
       "      <td>0.039</td>\n",
       "      <td>24.0</td>\n",
       "      <td>92.0</td>\n",
       "      <td>0.99114</td>\n",
       "      <td>3.27</td>\n",
       "      <td>0.50</td>\n",
       "      <td>11.2</td>\n",
       "      <td>1</td>\n",
       "      <td>1</td>\n",
       "    </tr>\n",
       "    <tr>\n",
       "      <th>6493</th>\n",
       "      <td>6.6</td>\n",
       "      <td>0.32</td>\n",
       "      <td>0.36</td>\n",
       "      <td>8.0</td>\n",
       "      <td>0.047</td>\n",
       "      <td>57.0</td>\n",
       "      <td>168.0</td>\n",
       "      <td>0.99490</td>\n",
       "      <td>3.15</td>\n",
       "      <td>0.46</td>\n",
       "      <td>9.6</td>\n",
       "      <td>1</td>\n",
       "      <td>1</td>\n",
       "    </tr>\n",
       "    <tr>\n",
       "      <th>6494</th>\n",
       "      <td>6.5</td>\n",
       "      <td>0.24</td>\n",
       "      <td>0.19</td>\n",
       "      <td>1.2</td>\n",
       "      <td>0.041</td>\n",
       "      <td>30.0</td>\n",
       "      <td>111.0</td>\n",
       "      <td>0.99254</td>\n",
       "      <td>2.99</td>\n",
       "      <td>0.46</td>\n",
       "      <td>9.4</td>\n",
       "      <td>1</td>\n",
       "      <td>1</td>\n",
       "    </tr>\n",
       "    <tr>\n",
       "      <th>6495</th>\n",
       "      <td>5.5</td>\n",
       "      <td>0.29</td>\n",
       "      <td>0.30</td>\n",
       "      <td>1.1</td>\n",
       "      <td>0.022</td>\n",
       "      <td>20.0</td>\n",
       "      <td>110.0</td>\n",
       "      <td>0.98869</td>\n",
       "      <td>3.34</td>\n",
       "      <td>0.38</td>\n",
       "      <td>12.8</td>\n",
       "      <td>1</td>\n",
       "      <td>1</td>\n",
       "    </tr>\n",
       "    <tr>\n",
       "      <th>6496</th>\n",
       "      <td>6.0</td>\n",
       "      <td>0.21</td>\n",
       "      <td>0.38</td>\n",
       "      <td>0.8</td>\n",
       "      <td>0.020</td>\n",
       "      <td>22.0</td>\n",
       "      <td>98.0</td>\n",
       "      <td>0.98941</td>\n",
       "      <td>3.26</td>\n",
       "      <td>0.32</td>\n",
       "      <td>11.8</td>\n",
       "      <td>1</td>\n",
       "      <td>1</td>\n",
       "    </tr>\n",
       "  </tbody>\n",
       "</table>\n",
       "<p>6497 rows × 13 columns</p>\n",
       "</div>"
      ],
      "text/plain": [
       "      fixed acidity  volatile acidity  citric acid  residual sugar  chlorides  \\\n",
       "0               7.4              0.70         0.00             1.9      0.076   \n",
       "1               7.8              0.88         0.00             2.6      0.098   \n",
       "2               7.8              0.76         0.04             2.3      0.092   \n",
       "3              11.2              0.28         0.56             1.9      0.075   \n",
       "4               7.4              0.70         0.00             1.9      0.076   \n",
       "...             ...               ...          ...             ...        ...   \n",
       "6492            6.2              0.21         0.29             1.6      0.039   \n",
       "6493            6.6              0.32         0.36             8.0      0.047   \n",
       "6494            6.5              0.24         0.19             1.2      0.041   \n",
       "6495            5.5              0.29         0.30             1.1      0.022   \n",
       "6496            6.0              0.21         0.38             0.8      0.020   \n",
       "\n",
       "      free sulfur dioxide  total sulfur dioxide  density    pH  sulphates  \\\n",
       "0                    11.0                  34.0  0.99780  3.51       0.56   \n",
       "1                    25.0                  67.0  0.99680  3.20       0.68   \n",
       "2                    15.0                  54.0  0.99700  3.26       0.65   \n",
       "3                    17.0                  60.0  0.99800  3.16       0.58   \n",
       "4                    11.0                  34.0  0.99780  3.51       0.56   \n",
       "...                   ...                   ...      ...   ...        ...   \n",
       "6492                 24.0                  92.0  0.99114  3.27       0.50   \n",
       "6493                 57.0                 168.0  0.99490  3.15       0.46   \n",
       "6494                 30.0                 111.0  0.99254  2.99       0.46   \n",
       "6495                 20.0                 110.0  0.98869  3.34       0.38   \n",
       "6496                 22.0                  98.0  0.98941  3.26       0.32   \n",
       "\n",
       "      alcohol  quality  type_white  \n",
       "0         9.4        1           0  \n",
       "1         9.8        1           0  \n",
       "2         9.8        1           0  \n",
       "3         9.8        1           0  \n",
       "4         9.4        1           0  \n",
       "...       ...      ...         ...  \n",
       "6492     11.2        1           1  \n",
       "6493      9.6        1           1  \n",
       "6494      9.4        1           1  \n",
       "6495     12.8        1           1  \n",
       "6496     11.8        1           1  \n",
       "\n",
       "[6497 rows x 13 columns]"
      ]
     },
     "execution_count": 37,
     "metadata": {},
     "output_type": "execute_result"
    }
   ],
   "source": [
    "dummies=pd.get_dummies(df, columns=['type'], drop_first=True, dtype='int')\n",
    "dummies"
   ]
  },
  {
   "cell_type": "markdown",
   "id": "325d3c9c-f029-48de-b130-433087b07d05",
   "metadata": {},
   "source": [
    "**Split the dataset into Feature and Target variables**"
   ]
  },
  {
   "cell_type": "code",
   "execution_count": 48,
   "id": "40e52262-b2c8-48e7-a4ba-6152c0cac599",
   "metadata": {},
   "outputs": [],
   "source": [
    "#Drop the 'quality' column from X and assign the 'fraud' column to y\n",
    "X = dummies.drop('quality', axis=1)\n",
    "y = dummies['quality']"
   ]
  },
  {
   "cell_type": "markdown",
   "id": "72822265-0cd5-4dc5-921f-90362b2c8df9",
   "metadata": {},
   "source": [
    "**Split the dataset into training and testing sets using an 80-20 split**"
   ]
  },
  {
   "cell_type": "code",
   "execution_count": 51,
   "id": "d98b051c-14a1-44ad-bbe8-6c7bcb022e06",
   "metadata": {},
   "outputs": [
    {
     "name": "stdout",
     "output_type": "stream",
     "text": [
      "\n",
      "Training set size: (5197, 12)\n",
      "\n",
      "Testing set size: (1300, 12)\n"
     ]
    }
   ],
   "source": [
    "X_train, X_test, y_train, y_test = train_test_split(X, y, test_size=0.2, random_state=42)\n",
    "print(\"\\nTraining set size:\", X_train.shape)\n",
    "print(\"\\nTesting set size:\", X_test.shape)"
   ]
  },
  {
   "cell_type": "markdown",
   "id": "9c1bad61-5904-4638-b1b3-91d664cf8a73",
   "metadata": {},
   "source": [
    "**Scale the features in our training and test sets**"
   ]
  },
  {
   "cell_type": "code",
   "execution_count": 54,
   "id": "fbda211a-716f-443b-85cc-63448cfbc4d8",
   "metadata": {},
   "outputs": [],
   "source": [
    "scaler = StandardScaler()\n",
    "X_train = scaler.fit_transform(X_train)\n",
    "X_test = scaler.fit_transform(X_test)"
   ]
  },
  {
   "cell_type": "code",
   "execution_count": 56,
   "id": "dcef1f4a-4633-4035-9661-cda5591e3086",
   "metadata": {},
   "outputs": [
    {
     "name": "stdout",
     "output_type": "stream",
     "text": [
      "[[-0.46822898 -0.59951186  0.20546655 ... -1.0832659   0.01376574\n",
      "   0.56512866]\n",
      " [ 0.85149992 -0.35284877  1.10406349 ...  0.59857677  1.60871671\n",
      "  -1.76950857]\n",
      " [ 0.38571325  2.32961232 -2.14471006 ...  0.26220824  1.10504798\n",
      "  -1.76950857]\n",
      " ...\n",
      " [-0.62349121  0.20214318 -0.83137607 ... -0.67962366 -0.82568214\n",
      "   0.56512866]\n",
      " [-0.54586009 -0.47618032  1.24230917 ... -0.41052883 -0.82568214\n",
      "   0.56512866]\n",
      " [-0.00244231  1.74378748 -1.79909585 ...  0.06038712 -0.82568214\n",
      "  -1.76950857]]\n"
     ]
    }
   ],
   "source": [
    "print(X_train)"
   ]
  },
  {
   "cell_type": "code",
   "execution_count": 58,
   "id": "85734dcc-89cd-4c8d-a322-566f6acb9d32",
   "metadata": {},
   "outputs": [
    {
     "name": "stdout",
     "output_type": "stream",
     "text": [
      "[[-0.19881797 -1.03269521  2.89842878 ... -1.01918451  1.39911755\n",
      "   0.59630422]\n",
      " [ 0.32850455  1.6721092  -0.6913277  ... -0.55058209 -0.52157659\n",
      "  -1.67699634]\n",
      " [-0.34948155  0.23338345  0.1891786  ... -0.6175253   1.23210067\n",
      "   0.59630422]\n",
      " ...\n",
      " [-0.50014513 -1.09024424  0.25690986 ...  1.45771398  1.56613443\n",
      "   0.59630422]\n",
      " [-0.50014513  0.23338345  0.46010362 ...  0.25273634 -0.9391188\n",
      "   0.59630422]\n",
      " [ 0.10250918 -1.09024424 -0.28494018 ... -0.6844685  -1.52367788\n",
      "   0.59630422]]\n"
     ]
    }
   ],
   "source": [
    "print(X_test)"
   ]
  },
  {
   "cell_type": "markdown",
   "id": "008ffd7d-052d-494b-b317-5f50c79a9fb4",
   "metadata": {},
   "source": [
    "**Train a Support Vector Machine model with Grid Search**"
   ]
  },
  {
   "cell_type": "markdown",
   "id": "521bd9dc-1d9b-4429-b5f1-ce20dd72a0c5",
   "metadata": {},
   "source": [
    "A Support Vector Machine (SVM) is a supervised machine learning algorithm that aims to classify data.\n",
    "It does this by finding the optimal hyperplane that best separates different data classes.\n",
    "It determines boundaries between data points based on predefined classes or labels or outputs.\n",
    "It is particularly useful for binary classifications such as in our case."
   ]
  },
  {
   "cell_type": "markdown",
   "id": "21bf8936-8953-4861-988e-00bc4aff077f",
   "metadata": {},
   "source": [
    "We use Grid Search to find the best hyperparameters for our SVM model."
   ]
  },
  {
   "cell_type": "code",
   "execution_count": 63,
   "id": "f14b390a-6e72-40d9-a59a-3cdeb236fdbc",
   "metadata": {},
   "outputs": [],
   "source": [
    "from sklearn.svm import SVC\n",
    "from sklearn.model_selection import GridSearchCV\n",
    "from sklearn.metrics import classification_report, confusion_matrix\n",
    "\n",
    "param_grid = {'C': [0.001, 0.01, 0.1, 1, 10], 'gamma': ['scale', 'auto']}"
   ]
  },
  {
   "cell_type": "code",
   "execution_count": 65,
   "id": "89272474-a38e-4cbb-8e42-a579370a0530",
   "metadata": {},
   "outputs": [
    {
     "data": {
      "text/html": [
       "<style>#sk-container-id-1 {\n",
       "  /* Definition of color scheme common for light and dark mode */\n",
       "  --sklearn-color-text: black;\n",
       "  --sklearn-color-line: gray;\n",
       "  /* Definition of color scheme for unfitted estimators */\n",
       "  --sklearn-color-unfitted-level-0: #fff5e6;\n",
       "  --sklearn-color-unfitted-level-1: #f6e4d2;\n",
       "  --sklearn-color-unfitted-level-2: #ffe0b3;\n",
       "  --sklearn-color-unfitted-level-3: chocolate;\n",
       "  /* Definition of color scheme for fitted estimators */\n",
       "  --sklearn-color-fitted-level-0: #f0f8ff;\n",
       "  --sklearn-color-fitted-level-1: #d4ebff;\n",
       "  --sklearn-color-fitted-level-2: #b3dbfd;\n",
       "  --sklearn-color-fitted-level-3: cornflowerblue;\n",
       "\n",
       "  /* Specific color for light theme */\n",
       "  --sklearn-color-text-on-default-background: var(--sg-text-color, var(--theme-code-foreground, var(--jp-content-font-color1, black)));\n",
       "  --sklearn-color-background: var(--sg-background-color, var(--theme-background, var(--jp-layout-color0, white)));\n",
       "  --sklearn-color-border-box: var(--sg-text-color, var(--theme-code-foreground, var(--jp-content-font-color1, black)));\n",
       "  --sklearn-color-icon: #696969;\n",
       "\n",
       "  @media (prefers-color-scheme: dark) {\n",
       "    /* Redefinition of color scheme for dark theme */\n",
       "    --sklearn-color-text-on-default-background: var(--sg-text-color, var(--theme-code-foreground, var(--jp-content-font-color1, white)));\n",
       "    --sklearn-color-background: var(--sg-background-color, var(--theme-background, var(--jp-layout-color0, #111)));\n",
       "    --sklearn-color-border-box: var(--sg-text-color, var(--theme-code-foreground, var(--jp-content-font-color1, white)));\n",
       "    --sklearn-color-icon: #878787;\n",
       "  }\n",
       "}\n",
       "\n",
       "#sk-container-id-1 {\n",
       "  color: var(--sklearn-color-text);\n",
       "}\n",
       "\n",
       "#sk-container-id-1 pre {\n",
       "  padding: 0;\n",
       "}\n",
       "\n",
       "#sk-container-id-1 input.sk-hidden--visually {\n",
       "  border: 0;\n",
       "  clip: rect(1px 1px 1px 1px);\n",
       "  clip: rect(1px, 1px, 1px, 1px);\n",
       "  height: 1px;\n",
       "  margin: -1px;\n",
       "  overflow: hidden;\n",
       "  padding: 0;\n",
       "  position: absolute;\n",
       "  width: 1px;\n",
       "}\n",
       "\n",
       "#sk-container-id-1 div.sk-dashed-wrapped {\n",
       "  border: 1px dashed var(--sklearn-color-line);\n",
       "  margin: 0 0.4em 0.5em 0.4em;\n",
       "  box-sizing: border-box;\n",
       "  padding-bottom: 0.4em;\n",
       "  background-color: var(--sklearn-color-background);\n",
       "}\n",
       "\n",
       "#sk-container-id-1 div.sk-container {\n",
       "  /* jupyter's `normalize.less` sets `[hidden] { display: none; }`\n",
       "     but bootstrap.min.css set `[hidden] { display: none !important; }`\n",
       "     so we also need the `!important` here to be able to override the\n",
       "     default hidden behavior on the sphinx rendered scikit-learn.org.\n",
       "     See: https://github.com/scikit-learn/scikit-learn/issues/21755 */\n",
       "  display: inline-block !important;\n",
       "  position: relative;\n",
       "}\n",
       "\n",
       "#sk-container-id-1 div.sk-text-repr-fallback {\n",
       "  display: none;\n",
       "}\n",
       "\n",
       "div.sk-parallel-item,\n",
       "div.sk-serial,\n",
       "div.sk-item {\n",
       "  /* draw centered vertical line to link estimators */\n",
       "  background-image: linear-gradient(var(--sklearn-color-text-on-default-background), var(--sklearn-color-text-on-default-background));\n",
       "  background-size: 2px 100%;\n",
       "  background-repeat: no-repeat;\n",
       "  background-position: center center;\n",
       "}\n",
       "\n",
       "/* Parallel-specific style estimator block */\n",
       "\n",
       "#sk-container-id-1 div.sk-parallel-item::after {\n",
       "  content: \"\";\n",
       "  width: 100%;\n",
       "  border-bottom: 2px solid var(--sklearn-color-text-on-default-background);\n",
       "  flex-grow: 1;\n",
       "}\n",
       "\n",
       "#sk-container-id-1 div.sk-parallel {\n",
       "  display: flex;\n",
       "  align-items: stretch;\n",
       "  justify-content: center;\n",
       "  background-color: var(--sklearn-color-background);\n",
       "  position: relative;\n",
       "}\n",
       "\n",
       "#sk-container-id-1 div.sk-parallel-item {\n",
       "  display: flex;\n",
       "  flex-direction: column;\n",
       "}\n",
       "\n",
       "#sk-container-id-1 div.sk-parallel-item:first-child::after {\n",
       "  align-self: flex-end;\n",
       "  width: 50%;\n",
       "}\n",
       "\n",
       "#sk-container-id-1 div.sk-parallel-item:last-child::after {\n",
       "  align-self: flex-start;\n",
       "  width: 50%;\n",
       "}\n",
       "\n",
       "#sk-container-id-1 div.sk-parallel-item:only-child::after {\n",
       "  width: 0;\n",
       "}\n",
       "\n",
       "/* Serial-specific style estimator block */\n",
       "\n",
       "#sk-container-id-1 div.sk-serial {\n",
       "  display: flex;\n",
       "  flex-direction: column;\n",
       "  align-items: center;\n",
       "  background-color: var(--sklearn-color-background);\n",
       "  padding-right: 1em;\n",
       "  padding-left: 1em;\n",
       "}\n",
       "\n",
       "\n",
       "/* Toggleable style: style used for estimator/Pipeline/ColumnTransformer box that is\n",
       "clickable and can be expanded/collapsed.\n",
       "- Pipeline and ColumnTransformer use this feature and define the default style\n",
       "- Estimators will overwrite some part of the style using the `sk-estimator` class\n",
       "*/\n",
       "\n",
       "/* Pipeline and ColumnTransformer style (default) */\n",
       "\n",
       "#sk-container-id-1 div.sk-toggleable {\n",
       "  /* Default theme specific background. It is overwritten whether we have a\n",
       "  specific estimator or a Pipeline/ColumnTransformer */\n",
       "  background-color: var(--sklearn-color-background);\n",
       "}\n",
       "\n",
       "/* Toggleable label */\n",
       "#sk-container-id-1 label.sk-toggleable__label {\n",
       "  cursor: pointer;\n",
       "  display: block;\n",
       "  width: 100%;\n",
       "  margin-bottom: 0;\n",
       "  padding: 0.5em;\n",
       "  box-sizing: border-box;\n",
       "  text-align: center;\n",
       "}\n",
       "\n",
       "#sk-container-id-1 label.sk-toggleable__label-arrow:before {\n",
       "  /* Arrow on the left of the label */\n",
       "  content: \"▸\";\n",
       "  float: left;\n",
       "  margin-right: 0.25em;\n",
       "  color: var(--sklearn-color-icon);\n",
       "}\n",
       "\n",
       "#sk-container-id-1 label.sk-toggleable__label-arrow:hover:before {\n",
       "  color: var(--sklearn-color-text);\n",
       "}\n",
       "\n",
       "/* Toggleable content - dropdown */\n",
       "\n",
       "#sk-container-id-1 div.sk-toggleable__content {\n",
       "  max-height: 0;\n",
       "  max-width: 0;\n",
       "  overflow: hidden;\n",
       "  text-align: left;\n",
       "  /* unfitted */\n",
       "  background-color: var(--sklearn-color-unfitted-level-0);\n",
       "}\n",
       "\n",
       "#sk-container-id-1 div.sk-toggleable__content.fitted {\n",
       "  /* fitted */\n",
       "  background-color: var(--sklearn-color-fitted-level-0);\n",
       "}\n",
       "\n",
       "#sk-container-id-1 div.sk-toggleable__content pre {\n",
       "  margin: 0.2em;\n",
       "  border-radius: 0.25em;\n",
       "  color: var(--sklearn-color-text);\n",
       "  /* unfitted */\n",
       "  background-color: var(--sklearn-color-unfitted-level-0);\n",
       "}\n",
       "\n",
       "#sk-container-id-1 div.sk-toggleable__content.fitted pre {\n",
       "  /* unfitted */\n",
       "  background-color: var(--sklearn-color-fitted-level-0);\n",
       "}\n",
       "\n",
       "#sk-container-id-1 input.sk-toggleable__control:checked~div.sk-toggleable__content {\n",
       "  /* Expand drop-down */\n",
       "  max-height: 200px;\n",
       "  max-width: 100%;\n",
       "  overflow: auto;\n",
       "}\n",
       "\n",
       "#sk-container-id-1 input.sk-toggleable__control:checked~label.sk-toggleable__label-arrow:before {\n",
       "  content: \"▾\";\n",
       "}\n",
       "\n",
       "/* Pipeline/ColumnTransformer-specific style */\n",
       "\n",
       "#sk-container-id-1 div.sk-label input.sk-toggleable__control:checked~label.sk-toggleable__label {\n",
       "  color: var(--sklearn-color-text);\n",
       "  background-color: var(--sklearn-color-unfitted-level-2);\n",
       "}\n",
       "\n",
       "#sk-container-id-1 div.sk-label.fitted input.sk-toggleable__control:checked~label.sk-toggleable__label {\n",
       "  background-color: var(--sklearn-color-fitted-level-2);\n",
       "}\n",
       "\n",
       "/* Estimator-specific style */\n",
       "\n",
       "/* Colorize estimator box */\n",
       "#sk-container-id-1 div.sk-estimator input.sk-toggleable__control:checked~label.sk-toggleable__label {\n",
       "  /* unfitted */\n",
       "  background-color: var(--sklearn-color-unfitted-level-2);\n",
       "}\n",
       "\n",
       "#sk-container-id-1 div.sk-estimator.fitted input.sk-toggleable__control:checked~label.sk-toggleable__label {\n",
       "  /* fitted */\n",
       "  background-color: var(--sklearn-color-fitted-level-2);\n",
       "}\n",
       "\n",
       "#sk-container-id-1 div.sk-label label.sk-toggleable__label,\n",
       "#sk-container-id-1 div.sk-label label {\n",
       "  /* The background is the default theme color */\n",
       "  color: var(--sklearn-color-text-on-default-background);\n",
       "}\n",
       "\n",
       "/* On hover, darken the color of the background */\n",
       "#sk-container-id-1 div.sk-label:hover label.sk-toggleable__label {\n",
       "  color: var(--sklearn-color-text);\n",
       "  background-color: var(--sklearn-color-unfitted-level-2);\n",
       "}\n",
       "\n",
       "/* Label box, darken color on hover, fitted */\n",
       "#sk-container-id-1 div.sk-label.fitted:hover label.sk-toggleable__label.fitted {\n",
       "  color: var(--sklearn-color-text);\n",
       "  background-color: var(--sklearn-color-fitted-level-2);\n",
       "}\n",
       "\n",
       "/* Estimator label */\n",
       "\n",
       "#sk-container-id-1 div.sk-label label {\n",
       "  font-family: monospace;\n",
       "  font-weight: bold;\n",
       "  display: inline-block;\n",
       "  line-height: 1.2em;\n",
       "}\n",
       "\n",
       "#sk-container-id-1 div.sk-label-container {\n",
       "  text-align: center;\n",
       "}\n",
       "\n",
       "/* Estimator-specific */\n",
       "#sk-container-id-1 div.sk-estimator {\n",
       "  font-family: monospace;\n",
       "  border: 1px dotted var(--sklearn-color-border-box);\n",
       "  border-radius: 0.25em;\n",
       "  box-sizing: border-box;\n",
       "  margin-bottom: 0.5em;\n",
       "  /* unfitted */\n",
       "  background-color: var(--sklearn-color-unfitted-level-0);\n",
       "}\n",
       "\n",
       "#sk-container-id-1 div.sk-estimator.fitted {\n",
       "  /* fitted */\n",
       "  background-color: var(--sklearn-color-fitted-level-0);\n",
       "}\n",
       "\n",
       "/* on hover */\n",
       "#sk-container-id-1 div.sk-estimator:hover {\n",
       "  /* unfitted */\n",
       "  background-color: var(--sklearn-color-unfitted-level-2);\n",
       "}\n",
       "\n",
       "#sk-container-id-1 div.sk-estimator.fitted:hover {\n",
       "  /* fitted */\n",
       "  background-color: var(--sklearn-color-fitted-level-2);\n",
       "}\n",
       "\n",
       "/* Specification for estimator info (e.g. \"i\" and \"?\") */\n",
       "\n",
       "/* Common style for \"i\" and \"?\" */\n",
       "\n",
       ".sk-estimator-doc-link,\n",
       "a:link.sk-estimator-doc-link,\n",
       "a:visited.sk-estimator-doc-link {\n",
       "  float: right;\n",
       "  font-size: smaller;\n",
       "  line-height: 1em;\n",
       "  font-family: monospace;\n",
       "  background-color: var(--sklearn-color-background);\n",
       "  border-radius: 1em;\n",
       "  height: 1em;\n",
       "  width: 1em;\n",
       "  text-decoration: none !important;\n",
       "  margin-left: 1ex;\n",
       "  /* unfitted */\n",
       "  border: var(--sklearn-color-unfitted-level-1) 1pt solid;\n",
       "  color: var(--sklearn-color-unfitted-level-1);\n",
       "}\n",
       "\n",
       ".sk-estimator-doc-link.fitted,\n",
       "a:link.sk-estimator-doc-link.fitted,\n",
       "a:visited.sk-estimator-doc-link.fitted {\n",
       "  /* fitted */\n",
       "  border: var(--sklearn-color-fitted-level-1) 1pt solid;\n",
       "  color: var(--sklearn-color-fitted-level-1);\n",
       "}\n",
       "\n",
       "/* On hover */\n",
       "div.sk-estimator:hover .sk-estimator-doc-link:hover,\n",
       ".sk-estimator-doc-link:hover,\n",
       "div.sk-label-container:hover .sk-estimator-doc-link:hover,\n",
       ".sk-estimator-doc-link:hover {\n",
       "  /* unfitted */\n",
       "  background-color: var(--sklearn-color-unfitted-level-3);\n",
       "  color: var(--sklearn-color-background);\n",
       "  text-decoration: none;\n",
       "}\n",
       "\n",
       "div.sk-estimator.fitted:hover .sk-estimator-doc-link.fitted:hover,\n",
       ".sk-estimator-doc-link.fitted:hover,\n",
       "div.sk-label-container:hover .sk-estimator-doc-link.fitted:hover,\n",
       ".sk-estimator-doc-link.fitted:hover {\n",
       "  /* fitted */\n",
       "  background-color: var(--sklearn-color-fitted-level-3);\n",
       "  color: var(--sklearn-color-background);\n",
       "  text-decoration: none;\n",
       "}\n",
       "\n",
       "/* Span, style for the box shown on hovering the info icon */\n",
       ".sk-estimator-doc-link span {\n",
       "  display: none;\n",
       "  z-index: 9999;\n",
       "  position: relative;\n",
       "  font-weight: normal;\n",
       "  right: .2ex;\n",
       "  padding: .5ex;\n",
       "  margin: .5ex;\n",
       "  width: min-content;\n",
       "  min-width: 20ex;\n",
       "  max-width: 50ex;\n",
       "  color: var(--sklearn-color-text);\n",
       "  box-shadow: 2pt 2pt 4pt #999;\n",
       "  /* unfitted */\n",
       "  background: var(--sklearn-color-unfitted-level-0);\n",
       "  border: .5pt solid var(--sklearn-color-unfitted-level-3);\n",
       "}\n",
       "\n",
       ".sk-estimator-doc-link.fitted span {\n",
       "  /* fitted */\n",
       "  background: var(--sklearn-color-fitted-level-0);\n",
       "  border: var(--sklearn-color-fitted-level-3);\n",
       "}\n",
       "\n",
       ".sk-estimator-doc-link:hover span {\n",
       "  display: block;\n",
       "}\n",
       "\n",
       "/* \"?\"-specific style due to the `<a>` HTML tag */\n",
       "\n",
       "#sk-container-id-1 a.estimator_doc_link {\n",
       "  float: right;\n",
       "  font-size: 1rem;\n",
       "  line-height: 1em;\n",
       "  font-family: monospace;\n",
       "  background-color: var(--sklearn-color-background);\n",
       "  border-radius: 1rem;\n",
       "  height: 1rem;\n",
       "  width: 1rem;\n",
       "  text-decoration: none;\n",
       "  /* unfitted */\n",
       "  color: var(--sklearn-color-unfitted-level-1);\n",
       "  border: var(--sklearn-color-unfitted-level-1) 1pt solid;\n",
       "}\n",
       "\n",
       "#sk-container-id-1 a.estimator_doc_link.fitted {\n",
       "  /* fitted */\n",
       "  border: var(--sklearn-color-fitted-level-1) 1pt solid;\n",
       "  color: var(--sklearn-color-fitted-level-1);\n",
       "}\n",
       "\n",
       "/* On hover */\n",
       "#sk-container-id-1 a.estimator_doc_link:hover {\n",
       "  /* unfitted */\n",
       "  background-color: var(--sklearn-color-unfitted-level-3);\n",
       "  color: var(--sklearn-color-background);\n",
       "  text-decoration: none;\n",
       "}\n",
       "\n",
       "#sk-container-id-1 a.estimator_doc_link.fitted:hover {\n",
       "  /* fitted */\n",
       "  background-color: var(--sklearn-color-fitted-level-3);\n",
       "}\n",
       "</style><div id=\"sk-container-id-1\" class=\"sk-top-container\"><div class=\"sk-text-repr-fallback\"><pre>GridSearchCV(cv=5, estimator=SVC(class_weight=&#x27;balanced&#x27;),\n",
       "             param_grid={&#x27;C&#x27;: [0.001, 0.01, 0.1, 1, 10],\n",
       "                         &#x27;gamma&#x27;: [&#x27;scale&#x27;, &#x27;auto&#x27;]})</pre><b>In a Jupyter environment, please rerun this cell to show the HTML representation or trust the notebook. <br />On GitHub, the HTML representation is unable to render, please try loading this page with nbviewer.org.</b></div><div class=\"sk-container\" hidden><div class=\"sk-item sk-dashed-wrapped\"><div class=\"sk-label-container\"><div class=\"sk-label fitted sk-toggleable\"><input class=\"sk-toggleable__control sk-hidden--visually\" id=\"sk-estimator-id-1\" type=\"checkbox\" ><label for=\"sk-estimator-id-1\" class=\"sk-toggleable__label fitted sk-toggleable__label-arrow fitted\">&nbsp;&nbsp;GridSearchCV<a class=\"sk-estimator-doc-link fitted\" rel=\"noreferrer\" target=\"_blank\" href=\"https://scikit-learn.org/1.4/modules/generated/sklearn.model_selection.GridSearchCV.html\">?<span>Documentation for GridSearchCV</span></a><span class=\"sk-estimator-doc-link fitted\">i<span>Fitted</span></span></label><div class=\"sk-toggleable__content fitted\"><pre>GridSearchCV(cv=5, estimator=SVC(class_weight=&#x27;balanced&#x27;),\n",
       "             param_grid={&#x27;C&#x27;: [0.001, 0.01, 0.1, 1, 10],\n",
       "                         &#x27;gamma&#x27;: [&#x27;scale&#x27;, &#x27;auto&#x27;]})</pre></div> </div></div><div class=\"sk-parallel\"><div class=\"sk-parallel-item\"><div class=\"sk-item\"><div class=\"sk-label-container\"><div class=\"sk-label fitted sk-toggleable\"><input class=\"sk-toggleable__control sk-hidden--visually\" id=\"sk-estimator-id-2\" type=\"checkbox\" ><label for=\"sk-estimator-id-2\" class=\"sk-toggleable__label fitted sk-toggleable__label-arrow fitted\">estimator: SVC</label><div class=\"sk-toggleable__content fitted\"><pre>SVC(class_weight=&#x27;balanced&#x27;)</pre></div> </div></div><div class=\"sk-serial\"><div class=\"sk-item\"><div class=\"sk-estimator fitted sk-toggleable\"><input class=\"sk-toggleable__control sk-hidden--visually\" id=\"sk-estimator-id-3\" type=\"checkbox\" ><label for=\"sk-estimator-id-3\" class=\"sk-toggleable__label fitted sk-toggleable__label-arrow fitted\">&nbsp;SVC<a class=\"sk-estimator-doc-link fitted\" rel=\"noreferrer\" target=\"_blank\" href=\"https://scikit-learn.org/1.4/modules/generated/sklearn.svm.SVC.html\">?<span>Documentation for SVC</span></a></label><div class=\"sk-toggleable__content fitted\"><pre>SVC(class_weight=&#x27;balanced&#x27;)</pre></div> </div></div></div></div></div></div></div></div></div>"
      ],
      "text/plain": [
       "GridSearchCV(cv=5, estimator=SVC(class_weight='balanced'),\n",
       "             param_grid={'C': [0.001, 0.01, 0.1, 1, 10],\n",
       "                         'gamma': ['scale', 'auto']})"
      ]
     },
     "execution_count": 65,
     "metadata": {},
     "output_type": "execute_result"
    }
   ],
   "source": [
    "grid = GridSearchCV(SVC(class_weight='balanced'), param_grid, cv=5)\n",
    "grid.fit(X_train, y_train)"
   ]
  },
  {
   "cell_type": "code",
   "execution_count": 67,
   "id": "9c44bf23-0f71-4cb9-8516-d7f22def88df",
   "metadata": {},
   "outputs": [
    {
     "name": "stdout",
     "output_type": "stream",
     "text": [
      "Best Parameters from GridSearchCV:\n",
      "{'C': 10, 'gamma': 'scale'}\n"
     ]
    }
   ],
   "source": [
    "#Find the best parameters for C and gamma\n",
    "print(\"Best Parameters from GridSearchCV:\")\n",
    "print(grid.best_params_)"
   ]
  },
  {
   "cell_type": "code",
   "execution_count": 69,
   "id": "36eaabcf-c8ba-476e-b51c-ea096ca485d3",
   "metadata": {},
   "outputs": [],
   "source": [
    "grid_predictions = grid.predict(X_test)"
   ]
  },
  {
   "cell_type": "markdown",
   "id": "89bddea9-597f-40dd-a3c5-5f63bbe48f74",
   "metadata": {},
   "source": [
    "**Confusion Matrix**"
   ]
  },
  {
   "cell_type": "code",
   "execution_count": 72,
   "id": "a7499d4a-559f-467e-bc28-1cd39a3e3e68",
   "metadata": {},
   "outputs": [
    {
     "name": "stdout",
     "output_type": "stream",
     "text": [
      "\n",
      "Confusion Matrix:\n",
      "[[  26   23]\n",
      " [ 116 1135]]\n"
     ]
    }
   ],
   "source": [
    "print(\"\\nConfusion Matrix:\")\n",
    "print(confusion_matrix(y_test, grid_predictions))"
   ]
  },
  {
   "cell_type": "markdown",
   "id": "f56ad7f4-4a0d-42ce-81c3-fbe1d7b6515c",
   "metadata": {},
   "source": [
    "We have 26 True Negative (top left) "
   ]
  },
  {
   "cell_type": "markdown",
   "id": "d62c74a2-888e-4b03-b2e4-9be68ec5d1c4",
   "metadata": {},
   "source": [
    "We have 23 False Positive (top right)"
   ]
  },
  {
   "cell_type": "markdown",
   "id": "c57db610-5705-4e7c-8739-4cec78666ef4",
   "metadata": {},
   "source": [
    "We have 116 False Negative (bottom left)"
   ]
  },
  {
   "cell_type": "markdown",
   "id": "53f4e834-745d-455d-915a-42619f4d6197",
   "metadata": {},
   "source": [
    "We have 1135 True Positive (bottom right)"
   ]
  },
  {
   "cell_type": "markdown",
   "id": "e10fc9f2-a560-43a0-803e-952b8297b20c",
   "metadata": {},
   "source": [
    "**Classification Report**"
   ]
  },
  {
   "cell_type": "code",
   "execution_count": 75,
   "id": "084fe9ea-853b-48ba-8ee8-da9242d76c32",
   "metadata": {},
   "outputs": [
    {
     "name": "stdout",
     "output_type": "stream",
     "text": [
      "\n",
      "Final Classification Report with Best Parameters:\n",
      "              precision    recall  f1-score   support\n",
      "\n",
      "           0       0.18      0.53      0.27        49\n",
      "           1       0.98      0.91      0.94      1251\n",
      "\n",
      "    accuracy                           0.89      1300\n",
      "   macro avg       0.58      0.72      0.61      1300\n",
      "weighted avg       0.95      0.89      0.92      1300\n",
      "\n"
     ]
    }
   ],
   "source": [
    "print(\"\\nFinal Classification Report with Best Parameters:\")\n",
    "print(classification_report(y_test, grid_predictions))"
   ]
  },
  {
   "cell_type": "markdown",
   "id": "5a7fc842-4d3f-4087-833e-ca2fab71050c",
   "metadata": {},
   "source": [
    "Class 0 (fraud). Precision (0.18) when the model predicts fraud it is correct 18% of the time. Recall (0.53) out of all the instances of fraud, the model correctly identified 53%. f1-score (0.27) this score balances precision and recall and indicates that the model is generally poor at detecting fraud. "
   ]
  },
  {
   "cell_type": "markdown",
   "id": "0b8db763-b090-43f0-9eb1-90ed7c446e89",
   "metadata": {},
   "source": [
    "Class 1 (legit). Precision (0.98) when the model predicts legit it is correct 98% of the time. Recall (0.91) out of all the instances of legit, the model correctly identified 91%. f1-score (0.94) indicates that the model is quite good at detecting legit wines. "
   ]
  },
  {
   "cell_type": "markdown",
   "id": "7cd800ae-bbc7-442a-a26d-7d92cd6c855f",
   "metadata": {},
   "source": [
    "Our SVM model is very good at identifying legit wines (class 1), but sacrifices precision when identifying fraudulent wines (class 0). The low precision (18%) means it is incorrectly predicting fraudulent wines. It struggles with Fraud detection due to low precision, indicating a high number of false positives. This might be attributed to our class imbalance as seen earlier since our dataset has more legit cases than fraud cases. This is a class imbalance which affects our model. "
   ]
  },
  {
   "cell_type": "markdown",
   "id": "8d9ca84d-5aeb-482d-9eb2-91959c6bf8f5",
   "metadata": {},
   "source": [
    "**Comparing our SVM model with Deep Learning**"
   ]
  },
  {
   "cell_type": "code",
   "execution_count": 82,
   "id": "30b6c00f-bb43-40bb-bbc0-5e367df9fe52",
   "metadata": {},
   "outputs": [],
   "source": [
    "import pandas as pd\n",
    "from sklearn.model_selection import train_test_split\n",
    "from sklearn.preprocessing import StandardScaler, LabelEncoder\n",
    "from tensorflow.keras.models import Sequential\n",
    "from tensorflow.keras.layers import Dense, Dropout\n",
    "from tensorflow.keras.optimizers import Adam\n",
    "from sklearn.metrics import classification_report, confusion_matrix\n",
    "from tensorflow.keras.layers import Input\n",
    "import numpy as np"
   ]
  },
  {
   "cell_type": "code",
   "execution_count": 84,
   "id": "687a518a-3285-400e-8528-bb413a0e0772",
   "metadata": {},
   "outputs": [],
   "source": [
    "# Load dataset\n",
    "df = pd.read_csv(\"data/wine_fraud.csv\")\n",
    "\n",
    "# Separate features and target\n",
    "X = df.drop(['quality', 'type'], axis=1)  # Drop target and type columns\n",
    "y = df['quality']\n",
    "\n",
    "# Encode the target variable if categorical\n",
    "label_encoder = LabelEncoder()\n",
    "y = label_encoder.fit_transform(y)\n",
    "\n",
    "# Split data into training and testing sets\n",
    "X_train, X_test, y_train, y_test = train_test_split(X, y, test_size=0.2, random_state=42)"
   ]
  },
  {
   "cell_type": "code",
   "execution_count": 86,
   "id": "4fa7cb39-4ab6-4751-ac8c-04dc35e44cd2",
   "metadata": {},
   "outputs": [],
   "source": [
    "# Standardize features\n",
    "scaler = StandardScaler()\n",
    "X_train = scaler.fit_transform(X_train)\n",
    "X_test = scaler.transform(X_test)"
   ]
  },
  {
   "cell_type": "markdown",
   "id": "d020c453-bace-4be5-8cc3-43a4d68a0ad9",
   "metadata": {},
   "source": [
    "We will be using a neural network this time to learn patterns and classify our data.\\\n",
    "The input layer specifies the number of features in our dataset. \\\n",
    "The hidden layer is where computation takes place to find patterns in the data. \\\n",
    "An activation function is applied to introduce non-linearity. \\\n",
    "Dropout is a technique to prevent overfitting by ignoring some neurons during training. \\\n",
    "The output layer produces the final prediction. It consists of one neuron per class in the target variable. \\\n",
    "A softmax activation function is used to convert into probabilities that represents the likelihood of each class."
   ]
  },
  {
   "cell_type": "code",
   "execution_count": 92,
   "id": "23436f1f-5c7e-4151-8ee0-078ddb2d83dd",
   "metadata": {},
   "outputs": [],
   "source": [
    "# Build the neural network\n",
    "model = Sequential([\n",
    "    Input(shape=(X_train.shape[1],)),  # Define the input shape explicitly\n",
    "    Dense(64, activation='relu'),\n",
    "    Dropout(0.5),  # Regularization\n",
    "    Dense(32, activation='relu'),\n",
    "    Dropout(0.3),\n",
    "    Dense(len(np.unique(y)), activation='softmax')  # Output layer\n",
    "])"
   ]
  },
  {
   "cell_type": "code",
   "execution_count": 94,
   "id": "3eb4e60c-5cf6-4d51-9e55-0d18ea71b0f3",
   "metadata": {},
   "outputs": [],
   "source": [
    "# Compile the model\n",
    "model.compile(optimizer=Adam(learning_rate=0.001),\n",
    "              loss='sparse_categorical_crossentropy',  # Adjust loss for classification\n",
    "              metrics=['accuracy'])"
   ]
  },
  {
   "cell_type": "code",
   "execution_count": 96,
   "id": "84d4ac32-f58c-44aa-ac88-261918253da6",
   "metadata": {},
   "outputs": [
    {
     "name": "stdout",
     "output_type": "stream",
     "text": [
      "Epoch 1/50\n",
      "130/130 - 1s - 6ms/step - accuracy: 0.9490 - loss: 0.2430 - val_accuracy: 0.9615 - val_loss: 0.1672\n",
      "Epoch 2/50\n",
      "130/130 - 0s - 1ms/step - accuracy: 0.9622 - loss: 0.1777 - val_accuracy: 0.9615 - val_loss: 0.1591\n",
      "Epoch 3/50\n",
      "130/130 - 0s - 1ms/step - accuracy: 0.9620 - loss: 0.1720 - val_accuracy: 0.9615 - val_loss: 0.1545\n",
      "Epoch 4/50\n",
      "130/130 - 0s - 1ms/step - accuracy: 0.9620 - loss: 0.1680 - val_accuracy: 0.9615 - val_loss: 0.1507\n",
      "Epoch 5/50\n",
      "130/130 - 0s - 1ms/step - accuracy: 0.9620 - loss: 0.1701 - val_accuracy: 0.9615 - val_loss: 0.1471\n",
      "Epoch 6/50\n",
      "130/130 - 0s - 1ms/step - accuracy: 0.9622 - loss: 0.1583 - val_accuracy: 0.9615 - val_loss: 0.1466\n",
      "Epoch 7/50\n",
      "130/130 - 0s - 1ms/step - accuracy: 0.9625 - loss: 0.1580 - val_accuracy: 0.9615 - val_loss: 0.1437\n",
      "Epoch 8/50\n",
      "130/130 - 0s - 1ms/step - accuracy: 0.9622 - loss: 0.1567 - val_accuracy: 0.9615 - val_loss: 0.1425\n",
      "Epoch 9/50\n",
      "130/130 - 0s - 1ms/step - accuracy: 0.9622 - loss: 0.1575 - val_accuracy: 0.9615 - val_loss: 0.1406\n",
      "Epoch 10/50\n",
      "130/130 - 0s - 1ms/step - accuracy: 0.9625 - loss: 0.1537 - val_accuracy: 0.9615 - val_loss: 0.1402\n",
      "Epoch 11/50\n",
      "130/130 - 0s - 1ms/step - accuracy: 0.9625 - loss: 0.1515 - val_accuracy: 0.9615 - val_loss: 0.1398\n",
      "Epoch 12/50\n",
      "130/130 - 0s - 1ms/step - accuracy: 0.9620 - loss: 0.1554 - val_accuracy: 0.9615 - val_loss: 0.1407\n",
      "Epoch 13/50\n",
      "130/130 - 0s - 1ms/step - accuracy: 0.9622 - loss: 0.1484 - val_accuracy: 0.9615 - val_loss: 0.1394\n",
      "Epoch 14/50\n",
      "130/130 - 0s - 1ms/step - accuracy: 0.9622 - loss: 0.1483 - val_accuracy: 0.9615 - val_loss: 0.1383\n",
      "Epoch 15/50\n",
      "130/130 - 0s - 1ms/step - accuracy: 0.9620 - loss: 0.1514 - val_accuracy: 0.9615 - val_loss: 0.1385\n",
      "Epoch 16/50\n",
      "130/130 - 0s - 1ms/step - accuracy: 0.9625 - loss: 0.1463 - val_accuracy: 0.9615 - val_loss: 0.1370\n",
      "Epoch 17/50\n",
      "130/130 - 0s - 1ms/step - accuracy: 0.9620 - loss: 0.1466 - val_accuracy: 0.9615 - val_loss: 0.1364\n",
      "Epoch 18/50\n",
      "130/130 - 0s - 1ms/step - accuracy: 0.9622 - loss: 0.1440 - val_accuracy: 0.9615 - val_loss: 0.1348\n",
      "Epoch 19/50\n",
      "130/130 - 0s - 1ms/step - accuracy: 0.9618 - loss: 0.1437 - val_accuracy: 0.9615 - val_loss: 0.1339\n",
      "Epoch 20/50\n",
      "130/130 - 0s - 1ms/step - accuracy: 0.9622 - loss: 0.1426 - val_accuracy: 0.9615 - val_loss: 0.1335\n",
      "Epoch 21/50\n",
      "130/130 - 0s - 1ms/step - accuracy: 0.9625 - loss: 0.1431 - val_accuracy: 0.9615 - val_loss: 0.1340\n",
      "Epoch 22/50\n",
      "130/130 - 0s - 1ms/step - accuracy: 0.9625 - loss: 0.1403 - val_accuracy: 0.9615 - val_loss: 0.1324\n",
      "Epoch 23/50\n",
      "130/130 - 0s - 1ms/step - accuracy: 0.9620 - loss: 0.1449 - val_accuracy: 0.9615 - val_loss: 0.1319\n",
      "Epoch 24/50\n",
      "130/130 - 0s - 1ms/step - accuracy: 0.9625 - loss: 0.1428 - val_accuracy: 0.9615 - val_loss: 0.1323\n",
      "Epoch 25/50\n",
      "130/130 - 0s - 1ms/step - accuracy: 0.9625 - loss: 0.1391 - val_accuracy: 0.9615 - val_loss: 0.1326\n",
      "Epoch 26/50\n",
      "130/130 - 0s - 1ms/step - accuracy: 0.9620 - loss: 0.1409 - val_accuracy: 0.9615 - val_loss: 0.1319\n",
      "Epoch 27/50\n",
      "130/130 - 0s - 1ms/step - accuracy: 0.9627 - loss: 0.1398 - val_accuracy: 0.9615 - val_loss: 0.1297\n",
      "Epoch 28/50\n",
      "130/130 - 0s - 1ms/step - accuracy: 0.9620 - loss: 0.1412 - val_accuracy: 0.9615 - val_loss: 0.1301\n",
      "Epoch 29/50\n",
      "130/130 - 0s - 1ms/step - accuracy: 0.9625 - loss: 0.1373 - val_accuracy: 0.9615 - val_loss: 0.1311\n",
      "Epoch 30/50\n",
      "130/130 - 0s - 1ms/step - accuracy: 0.9627 - loss: 0.1400 - val_accuracy: 0.9615 - val_loss: 0.1299\n",
      "Epoch 31/50\n",
      "130/130 - 0s - 1ms/step - accuracy: 0.9630 - loss: 0.1361 - val_accuracy: 0.9615 - val_loss: 0.1296\n",
      "Epoch 32/50\n",
      "130/130 - 0s - 1ms/step - accuracy: 0.9622 - loss: 0.1385 - val_accuracy: 0.9615 - val_loss: 0.1301\n",
      "Epoch 33/50\n",
      "130/130 - 0s - 1ms/step - accuracy: 0.9618 - loss: 0.1354 - val_accuracy: 0.9615 - val_loss: 0.1285\n",
      "Epoch 34/50\n",
      "130/130 - 0s - 1ms/step - accuracy: 0.9625 - loss: 0.1362 - val_accuracy: 0.9615 - val_loss: 0.1296\n",
      "Epoch 35/50\n",
      "130/130 - 0s - 1ms/step - accuracy: 0.9630 - loss: 0.1318 - val_accuracy: 0.9615 - val_loss: 0.1300\n",
      "Epoch 36/50\n",
      "130/130 - 0s - 1ms/step - accuracy: 0.9630 - loss: 0.1363 - val_accuracy: 0.9615 - val_loss: 0.1298\n",
      "Epoch 37/50\n",
      "130/130 - 0s - 1ms/step - accuracy: 0.9632 - loss: 0.1344 - val_accuracy: 0.9606 - val_loss: 0.1280\n",
      "Epoch 38/50\n",
      "130/130 - 0s - 1ms/step - accuracy: 0.9625 - loss: 0.1339 - val_accuracy: 0.9606 - val_loss: 0.1294\n",
      "Epoch 39/50\n",
      "130/130 - 0s - 1ms/step - accuracy: 0.9632 - loss: 0.1344 - val_accuracy: 0.9615 - val_loss: 0.1298\n",
      "Epoch 40/50\n",
      "130/130 - 0s - 1ms/step - accuracy: 0.9618 - loss: 0.1372 - val_accuracy: 0.9615 - val_loss: 0.1296\n",
      "Epoch 41/50\n",
      "130/130 - 0s - 1ms/step - accuracy: 0.9627 - loss: 0.1328 - val_accuracy: 0.9615 - val_loss: 0.1304\n",
      "Epoch 42/50\n",
      "130/130 - 0s - 1ms/step - accuracy: 0.9622 - loss: 0.1342 - val_accuracy: 0.9615 - val_loss: 0.1282\n",
      "Epoch 43/50\n",
      "130/130 - 0s - 1ms/step - accuracy: 0.9625 - loss: 0.1353 - val_accuracy: 0.9615 - val_loss: 0.1269\n",
      "Epoch 44/50\n",
      "130/130 - 0s - 1ms/step - accuracy: 0.9620 - loss: 0.1340 - val_accuracy: 0.9615 - val_loss: 0.1287\n",
      "Epoch 45/50\n",
      "130/130 - 0s - 1ms/step - accuracy: 0.9620 - loss: 0.1341 - val_accuracy: 0.9615 - val_loss: 0.1292\n",
      "Epoch 46/50\n",
      "130/130 - 0s - 1ms/step - accuracy: 0.9632 - loss: 0.1354 - val_accuracy: 0.9615 - val_loss: 0.1295\n",
      "Epoch 47/50\n",
      "130/130 - 0s - 1ms/step - accuracy: 0.9634 - loss: 0.1304 - val_accuracy: 0.9615 - val_loss: 0.1278\n",
      "Epoch 48/50\n",
      "130/130 - 0s - 1ms/step - accuracy: 0.9613 - loss: 0.1345 - val_accuracy: 0.9615 - val_loss: 0.1279\n",
      "Epoch 49/50\n",
      "130/130 - 0s - 1ms/step - accuracy: 0.9632 - loss: 0.1319 - val_accuracy: 0.9615 - val_loss: 0.1271\n",
      "Epoch 50/50\n",
      "130/130 - 0s - 1ms/step - accuracy: 0.9622 - loss: 0.1330 - val_accuracy: 0.9615 - val_loss: 0.1256\n"
     ]
    },
    {
     "data": {
      "text/plain": [
       "<keras.src.callbacks.history.History at 0x1fc626b85c0>"
      ]
     },
     "execution_count": 96,
     "metadata": {},
     "output_type": "execute_result"
    }
   ],
   "source": [
    "# Train the model\n",
    "model.fit(X_train, y_train, epochs=50, batch_size=32, validation_split=0.2, verbose=2)"
   ]
  },
  {
   "cell_type": "code",
   "execution_count": 98,
   "id": "70acdbc5-cf9c-4e18-b0cc-1cbdd5777284",
   "metadata": {},
   "outputs": [
    {
     "name": "stdout",
     "output_type": "stream",
     "text": [
      "\u001b[1m41/41\u001b[0m \u001b[32m━━━━━━━━━━━━━━━━━━━━\u001b[0m\u001b[37m\u001b[0m \u001b[1m0s\u001b[0m 960us/step\n"
     ]
    }
   ],
   "source": [
    "# Evaluate the model\n",
    "y_pred = np.argmax(model.predict(X_test), axis=-1)"
   ]
  },
  {
   "cell_type": "code",
   "execution_count": 100,
   "id": "5cdcff2b-42fb-4f31-9b04-cea89e487c2f",
   "metadata": {},
   "outputs": [
    {
     "name": "stdout",
     "output_type": "stream",
     "text": [
      "\n",
      "Classification Report:\n",
      "              precision    recall  f1-score   support\n",
      "\n",
      "           0       1.00      0.02      0.04        49\n",
      "           1       0.96      1.00      0.98      1251\n",
      "\n",
      "    accuracy                           0.96      1300\n",
      "   macro avg       0.98      0.51      0.51      1300\n",
      "weighted avg       0.96      0.96      0.95      1300\n",
      "\n"
     ]
    }
   ],
   "source": [
    "print(\"\\nClassification Report:\")\n",
    "print(classification_report(y_test, y_pred))"
   ]
  },
  {
   "cell_type": "markdown",
   "id": "d82dd96c-6d05-4d5f-9ffd-613e1badf0c6",
   "metadata": {},
   "source": [
    "To review our previous SVM model produced a classification report with the following: \\\n",
    "Class 0 (fraud): precision (0.18), recall (0.53), f1-score (0.27) \\\n",
    "Class 1 (legit): precision (0.98), recall (0.91), f1-score (0.94). \\\n",
    "Notably our SVM model struggled with fraud prediction due to low precision, indicating a high number of false positives."
   ]
  },
  {
   "cell_type": "markdown",
   "id": "eab2625a-cf83-4b8d-a83a-9467d590005a",
   "metadata": {},
   "source": [
    "Our deep learning model shows greatly improved precision (100%) for class 0 meaning when it predicts fraud it is correct 100% of the time. However it sacrificed recall (0.02) meaning that in all the instances of fraud, the model correctly identified only 2%. \\ \n",
    "\n",
    "**We can interpret this as the model being overly conservative or cautious in making fraud predictions. To put it another way, when it DOES predict fraud it is certain, but it is only capturing 2% of all fraud cases. It is predicting fraud only when it is very confident, at the expense of missing many fraud cases.** "
   ]
  },
  {
   "cell_type": "markdown",
   "id": "dce36b6e-c4c7-4a52-b374-b81adb93754c",
   "metadata": {},
   "source": [
    "Our deep learning model shows excellent performance for legit wines (class 1). It has high precision (0.98) meaning when it predicts legit wines it is correct 98% of the time. It does not sacrifice recall here (1.00), meaning it achieved both a high level of confidence in its positive predictions and successfully captured all true positive cases. "
   ]
  },
  {
   "cell_type": "markdown",
   "id": "90cf9707-f792-4809-82f5-405e42d90af0",
   "metadata": {},
   "source": [
    "We are not surprised that both our SVM and deep learning models had good metrics for legit wines considering our dataset had significantly more legit wine classes compared to fraudulent wines. **However, if our goal is fraud detection, both models are not very good at this. The SVM model had low precision and recall scores, and our deep learning model was overly cautious, failing to capture the majority of fraud cases, and therefore not very useful for the purpose of fraud detection either.**"
   ]
  },
  {
   "cell_type": "markdown",
   "id": "b7c88860-21cd-4e82-8fd3-041b177fee64",
   "metadata": {},
   "source": [
    "For future analyses it might be useful to utilize techniques such as oversampling or undersampling to better balance the metrics between class 0 (fraud) and class 1 (legit). "
   ]
  },
  {
   "cell_type": "code",
   "execution_count": null,
   "id": "52289139-7982-49f6-ad8d-1de26774bb57",
   "metadata": {},
   "outputs": [],
   "source": []
  }
 ],
 "metadata": {
  "kernelspec": {
   "display_name": "Python 3 (ipykernel)",
   "language": "python",
   "name": "python3"
  },
  "language_info": {
   "codemirror_mode": {
    "name": "ipython",
    "version": 3
   },
   "file_extension": ".py",
   "mimetype": "text/x-python",
   "name": "python",
   "nbconvert_exporter": "python",
   "pygments_lexer": "ipython3",
   "version": "3.12.3"
  }
 },
 "nbformat": 4,
 "nbformat_minor": 5
}
